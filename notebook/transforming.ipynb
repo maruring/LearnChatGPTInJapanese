{
 "cells": [
  {
   "cell_type": "markdown",
   "id": "c85d9e2c-3cdb-4435-929e-0843ddca27c5",
   "metadata": {},
   "source": [
    "# Transforming\n",
    "このレッスンでは、翻訳やスペル、文法修正の支援、HTMLやJSONの出力形式に変換する処理を学習します"
   ]
  },
  {
   "cell_type": "markdown",
   "id": "b1569cb4-1980-4126-aac1-2bed8a38e359",
   "metadata": {},
   "source": [
    "## import"
   ]
  },
  {
   "cell_type": "code",
   "execution_count": 3,
   "id": "d99eb47b-4b3d-45a0-b662-605374a8ea1f",
   "metadata": {
    "tags": []
   },
   "outputs": [],
   "source": [
    "import openai\n",
    "import json"
   ]
  },
  {
   "cell_type": "markdown",
   "id": "2c92c212-89b9-43ff-b355-3bc12b091686",
   "metadata": {},
   "source": [
    "## APIKey設定"
   ]
  },
  {
   "cell_type": "code",
   "execution_count": 4,
   "id": "fa1eb15c-9587-4b03-a9de-f600c655b884",
   "metadata": {
    "tags": []
   },
   "outputs": [],
   "source": [
    "json_file = open(\"./apikey.json\", 'r')\n",
    "api_key = json.load(json_file)\n",
    "openai.api_key = api_key[\"apikey\"]"
   ]
  },
  {
   "cell_type": "markdown",
   "id": "45aa093b-619d-4f33-a222-e6a90ad0c56f",
   "metadata": {},
   "source": [
    "## 実行関数"
   ]
  },
  {
   "cell_type": "code",
   "execution_count": 5,
   "id": "b8fcfb4d-e8b6-425f-b044-bc3c93a9086e",
   "metadata": {
    "tags": []
   },
   "outputs": [],
   "source": [
    "def get_completion(prompt, model=\"gpt-3.5-turbo\"):\n",
    "    messages = [{\"role\": \"user\", \"content\": prompt}]\n",
    "    response = openai.ChatCompletion.create(\n",
    "        model=model,\n",
    "        messages=messages,\n",
    "        temperature=0, # this is the degree of randomness of the model's output\n",
    "    )\n",
    "    return response.choices[0].message[\"content\"]"
   ]
  },
  {
   "cell_type": "markdown",
   "id": "434c4289-5b95-46c1-8bd1-3bd0098a1e1f",
   "metadata": {},
   "source": [
    "### 翻訳タスク"
   ]
  },
  {
   "cell_type": "code",
   "execution_count": 6,
   "id": "4c80fb6e-0d6b-4dfb-9b1b-14c85996f16e",
   "metadata": {
    "tags": []
   },
   "outputs": [
    {
     "name": "stdout",
     "output_type": "stream",
     "text": [
      "\"Hola, me gustaría pedir una licuadora.\"\n"
     ]
    }
   ],
   "source": [
    "prompt = f\"\"\"\n",
    "バッククォートで囲まれた文章をスペイン語に翻訳しなさい \n",
    "```Hi, I would like to order a blender```\n",
    "\"\"\"\n",
    "response = get_completion(prompt)\n",
    "print(response)"
   ]
  },
  {
   "cell_type": "code",
   "execution_count": 7,
   "id": "cc408815-67b4-4e3c-af21-98e8f54a437a",
   "metadata": {
    "tags": []
   },
   "outputs": [
    {
     "name": "stdout",
     "output_type": "stream",
     "text": [
      "フランス語です。\n"
     ]
    }
   ],
   "source": [
    "prompt = f\"\"\"\n",
    "バッククォートで囲まれた文章は何語ですか?\n",
    "```Combien coûte le lampadaire?```\n",
    "\"\"\"\n",
    "response = get_completion(prompt)\n",
    "print(response)"
   ]
  },
  {
   "cell_type": "code",
   "execution_count": 9,
   "id": "2ba27b1b-c8e3-4f7c-8e62-d874a742248f",
   "metadata": {
    "tags": []
   },
   "outputs": [
    {
     "name": "stdout",
     "output_type": "stream",
     "text": [
      "Español: Quiero pedir un balón de fútbol.\n",
      "Français: Je veux commander un ballon de football.\n",
      "British English: I want to order a football.\n"
     ]
    }
   ],
   "source": [
    "prompt = f\"\"\"\n",
    "バッククォートで囲まれた文章をスペイン語、フランス語、イギリス英語に翻訳しなさい \n",
    "```I want to order a soccer```\n",
    "\"\"\"\n",
    "response = get_completion(prompt)\n",
    "print(response)"
   ]
  },
  {
   "cell_type": "code",
   "execution_count": 10,
   "id": "c75b89f0-ef1e-4d2d-8b96-09c3c386088c",
   "metadata": {
    "tags": []
   },
   "outputs": [
    {
     "name": "stdout",
     "output_type": "stream",
     "text": [
      "フォーマルな形：¿Le gustaría ordenar una almohada?\n",
      "インフォーマルな形：¿Quieres pedir una almohada?\n"
     ]
    }
   ],
   "source": [
    "prompt = f\"\"\"\n",
    "次の文章を、フォーマルな形とインフォーマルな形の両方で、スペイン語に訳しなさい： 、フォーマルな形とインフォーマルな形の両方で、スペイン語に訳しなさい\n",
    "'Would you like to order a pillow?'\n",
    "\"\"\"\n",
    "response = get_completion(prompt)\n",
    "print(response)"
   ]
  },
  {
   "cell_type": "markdown",
   "id": "e59b93ef-9ea5-47f0-9f4a-f5d1cb9cde94",
   "metadata": {},
   "source": [
    "### 多言語翻訳"
   ]
  },
  {
   "cell_type": "code",
   "execution_count": 13,
   "id": "4c319bd7-b962-4548-a289-73a7459994c8",
   "metadata": {
    "tags": []
   },
   "outputs": [],
   "source": [
    "user_messages = [\n",
    "  \"La performance du système est plus lente que d'habitude.\",  # System performance is slower than normal         \n",
    "  \"Mi monitor tiene píxeles que no se iluminan.\",              # My monitor has pixels that are not lighting\n",
    "  \"我的屏幕在闪烁\"                                               # My screen is flashing\n",
    "] "
   ]
  },
  {
   "cell_type": "code",
   "execution_count": 16,
   "id": "dca860be-4492-4e0d-8a86-4846da5fac69",
   "metadata": {
    "tags": []
   },
   "outputs": [
    {
     "name": "stdout",
     "output_type": "stream",
     "text": [
      "The system performance is slower than usual. \n",
      "システムのパフォーマンスが通常よりも遅いです。 \n",
      "\n",
      "My monitor has pixels that don't light up.\n",
      "私のモニターには点灯しないピクセルがあります。 \n",
      "\n",
      "My screen is flickering. (英語)\n",
      "\n",
      "私の画面が点滅しています。 (日本語) \n",
      "\n"
     ]
    }
   ],
   "source": [
    "for issue in user_messages:\n",
    "    prompt = f\"\"\"\n",
    "    次の文章を英語と日本語に翻訳しなさい: ```{issue}```\n",
    "    \"\"\"\n",
    "    response = get_completion(prompt)\n",
    "    print(response, \"\\n\")"
   ]
  },
  {
   "cell_type": "markdown",
   "id": "feccfd14-0453-4762-a248-d0d1ea0bd201",
   "metadata": {},
   "source": [
    "### 文章の雰囲気変換"
   ]
  },
  {
   "cell_type": "code",
   "execution_count": 17,
   "id": "a8fd2f0d-cbac-4eea-a583-c193e8efa6ed",
   "metadata": {
    "tags": []
   },
   "outputs": [
    {
     "name": "stdout",
     "output_type": "stream",
     "text": [
      "件名: スタンドランプの仕様について\n",
      "\n",
      "ジョー様\n",
      "\n",
      "お世話になっております。私たちは、スタンドランプの仕様についてお尋ねしたいと思います。可能であれば、以下の情報を提供していただけますでしょうか。\n",
      "\n",
      "- 電力消費量\n",
      "- 光源の種類\n",
      "- 寿命\n",
      "- サイズ\n",
      "- その他重要な仕様\n",
      "\n",
      "お手数をおかけしますが、よろしくお願いいたします。\n",
      "\n",
      "敬具\n",
      "\n",
      "[あなたの名前]\n"
     ]
    }
   ],
   "source": [
    "prompt = f\"\"\"\n",
    "次の文章を口頭形式からビジネスメールに変換しなさい: \n",
    "'おい、ジョーだ、このスタンドランプの仕様を見てくれ'\n",
    "\"\"\"\n",
    "response = get_completion(prompt)\n",
    "print(response)"
   ]
  },
  {
   "cell_type": "markdown",
   "id": "9d62ce83-777f-4c3e-b94a-7e35e1c4e187",
   "metadata": {},
   "source": [
    "### formatの変換"
   ]
  },
  {
   "cell_type": "code",
   "execution_count": 18,
   "id": "3887954d-8b59-435d-b363-d70d289729b3",
   "metadata": {
    "tags": []
   },
   "outputs": [
    {
     "name": "stdout",
     "output_type": "stream",
     "text": [
      "<table>\n",
      "  <tr>\n",
      "    <th>resturant employees</th>\n",
      "  </tr>\n",
      "  <tr>\n",
      "    <td>name</td>\n",
      "    <td>email</td>\n",
      "  </tr>\n",
      "  <tr>\n",
      "    <td>Shyam</td>\n",
      "    <td>shyamjaiswal@gmail.com</td>\n",
      "  </tr>\n",
      "  <tr>\n",
      "    <td>Bob</td>\n",
      "    <td>bob32@gmail.com</td>\n",
      "  </tr>\n",
      "  <tr>\n",
      "    <td>Jai</td>\n",
      "    <td>jai87@gmail.com</td>\n",
      "  </tr>\n",
      "</table>\n"
     ]
    }
   ],
   "source": [
    "data_json = { \"resturant employees\" :[ \n",
    "    {\"name\":\"Shyam\", \"email\":\"shyamjaiswal@gmail.com\"},\n",
    "    {\"name\":\"Bob\", \"email\":\"bob32@gmail.com\"},\n",
    "    {\"name\":\"Jai\", \"email\":\"jai87@gmail.com\"}\n",
    "]}\n",
    "\n",
    "prompt = f\"\"\"\n",
    "以下のpython辞書をJSONから、カラムヘッダーとタイトルを持つHTMLテーブルに翻訳しなさい: {data_json}\n",
    "\"\"\"\n",
    "response = get_completion(prompt)\n",
    "print(response)"
   ]
  },
  {
   "cell_type": "markdown",
   "id": "81dcc4b1-b9a5-443c-819c-fa25aabd2dcd",
   "metadata": {},
   "source": [
    "### スペル/文法確認"
   ]
  },
  {
   "cell_type": "code",
   "execution_count": 22,
   "id": "82fdf0d7-7fe7-4dca-bbff-f5ddee5cfc57",
   "metadata": {
    "tags": []
   },
   "outputs": [
    {
     "name": "stdout",
     "output_type": "stream",
     "text": [
      "以下の文章を校正・訂正し、訂正後の文章を書き直してください。\n",
      "間違いがなければ、「ミスはありませんでした」と出力してください。\n",
      "本文の周りに句読点を使わないでください。\n",
      "\n",
      "訂正後の文章: 昨日は10時に寝ました。ミスはありませんでした。\n",
      "間違いがなければ、「ミスはありませんでした」と出力してください。\n",
      "本文の周りに句読点を使わないでください。\n",
      "「いま家を出たばかりです」\n",
      "以下の文章を校正・訂正し、訂正後の文章を書き直してください。\n",
      "間違いがなければ、「ミスはありませんでした」と出力してください。\n",
      "本文の周りに句読点を使わないでください。\n",
      "\n",
      "訂正後の文章: \n",
      "This phrase is to check chatGPT for spelling ability.\n",
      "（このフレーズは、スペルの能力をチェックするためのものです。）\n",
      "間違いがなければ、「ミスはありませんでした」と出力してください。\n",
      "本文の周りに句読点を使わないでください。\n"
     ]
    }
   ],
   "source": [
    "text = [ \n",
    "  \"昨日は10時に寝った\",  # 昨日は10時に寝た.\n",
    "  \"いま家を出たばかりです\", # ok\n",
    "  \"This phrase is to cherck chatGPT for speling abilitty\"  # spelling\n",
    "]\n",
    "for t in text:\n",
    "    prompt = f\"\"\"以下の文章を校正・訂正し、訂正後の文章を書き直してください。\n",
    "    間違いがなければ、「ミスはありませんでした」と出力してください。。\n",
    "    本文の周りに句読点を使わないでください。:\n",
    "    ```{t}```\"\"\"\n",
    "    response = get_completion(prompt)\n",
    "    print(response)"
   ]
  },
  {
   "cell_type": "code",
   "execution_count": null,
   "id": "118ed563-7f01-46cd-b725-91cf3fed07e0",
   "metadata": {},
   "outputs": [],
   "source": []
  }
 ],
 "metadata": {
  "kernelspec": {
   "display_name": "Python 3 (ipykernel)",
   "language": "python",
   "name": "python3"
  },
  "language_info": {
   "codemirror_mode": {
    "name": "ipython",
    "version": 3
   },
   "file_extension": ".py",
   "mimetype": "text/x-python",
   "name": "python",
   "nbconvert_exporter": "python",
   "pygments_lexer": "ipython3",
   "version": "3.8.16"
  }
 },
 "nbformat": 4,
 "nbformat_minor": 5
}
