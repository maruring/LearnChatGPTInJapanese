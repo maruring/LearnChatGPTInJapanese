{
 "cells": [
  {
   "cell_type": "markdown",
   "metadata": {},
   "source": [
    "# Guideline\n",
    "このレッスンでは、ChatGPTがどんなタスクが実行できるかを学習します"
   ]
  },
  {
   "cell_type": "markdown",
   "metadata": {},
   "source": [
    "## import 関係"
   ]
  },
  {
   "cell_type": "code",
   "execution_count": 1,
   "metadata": {
    "tags": []
   },
   "outputs": [],
   "source": [
    "import openai\n",
    "import json"
   ]
  },
  {
   "cell_type": "markdown",
   "metadata": {},
   "source": [
    "## API key設定"
   ]
  },
  {
   "cell_type": "code",
   "execution_count": 2,
   "metadata": {
    "tags": []
   },
   "outputs": [],
   "source": [
    "json_file = open(\"./apikey.json\", 'r')\n",
    "api_key = json.load(json_file)\n",
    "openai.api_key = api_key[\"apikey\"]"
   ]
  },
  {
   "cell_type": "markdown",
   "metadata": {},
   "source": [
    "## 関数関係"
   ]
  },
  {
   "cell_type": "code",
   "execution_count": 3,
   "metadata": {},
   "outputs": [],
   "source": [
    "# プロンプトを受け取り、そのプロンプトの完了を返却型する関数\n",
    "def get_completion(prompt, model=\"gpt-3.5-turbo\"):\n",
    "    messages = [{\"role\": \"user\", \"content\": prompt}]\n",
    "    response = openai.ChatCompletion.create(\n",
    "        model=model,\n",
    "        messages=messages,\n",
    "        temperature=0, # this is the degree of randomness of the model's output\n",
    "    )\n",
    "    return response.choices[0].message[\"content\"]"
   ]
  },
  {
   "cell_type": "markdown",
   "metadata": {},
   "source": [
    "明確で具体的な指示を書くことが重要です。\n",
    "可能な限り明確で具体的な指示を提供することで、モデルに実行してもらいたいことを表現する必要があります。これにより、モデルが目的の出力に導かれ、無関係または不正確な応答が得られる可能性が減少します。\n",
    "多くの場合、プロンプトが長いほど、モデルの明確さとコンテキストが実際に提供され、実際にはより詳細で関連性の高い出力につながる可能性があるため、明確なプロンプトを作成することと短いプロンプトを作成することを混同しないでください"
   ]
  },
  {
   "cell_type": "markdown",
   "metadata": {},
   "source": [
    "明確で具体的な指示を書くのに役立つ最初の方法は、区切り記号を使用して、入力の異なる部分を明確に示すことです。"
   ]
  },
  {
   "cell_type": "markdown",
   "metadata": {},
   "source": [
    "### Principle1 明確で具体的な指示書を書く"
   ]
  },
  {
   "cell_type": "markdown",
   "metadata": {},
   "source": [
    "#### Tactic1 以下の内容をChatGPTに要約させる処理です"
   ]
  },
  {
   "cell_type": "code",
   "execution_count": 4,
   "metadata": {},
   "outputs": [
    {
     "name": "stdout",
     "output_type": "stream",
     "text": [
      "モデルに明確な指示を出し、具体化することで望ましい出力を得る。長いプロンプトは文脈を提供し、詳細なアウトプットを得られる。\n"
     ]
    }
   ],
   "source": [
    "text = f\"\"\"\n",
    "モデルに何をさせたいかは、以下の方法で表現する必要があります。\n",
    "明確にした上で指示を出す。\n",
    "可能な限り具体化する。\n",
    "そうすることで、モデルを望ましい出力に導くことができます。\n",
    "無関係なものを受け取る可能性を減らすことができます\n",
    "不正確な回答をすることがあります。\n",
    "を書くことを混同しないでください。\n",
    "clear prompt with writing short prompt. \n",
    "多くの場合、長いプロンプトは、より明確なプロンプトを提供します\n",
    "といったモデルの文脈を知ることができ、それによって\n",
    "より詳細で適切なアウトプットを提供します。\n",
    "\"\"\"\n",
    "prompt = f\"\"\"\n",
    "三重のバックティックで区切られたテキストを要約しなさい\n",
    "一文にする。\n",
    "```{text}```\n",
    "\"\"\"\n",
    "response = get_completion(prompt)\n",
    "print(response)"
   ]
  },
  {
   "cell_type": "markdown",
   "metadata": {},
   "source": [
    "#### Tactic2 jsonやHTMLを作成を命令する処理もできます"
   ]
  },
  {
   "cell_type": "code",
   "execution_count": 5,
   "metadata": {
    "tags": []
   },
   "outputs": [
    {
     "name": "stdout",
     "output_type": "stream",
     "text": [
      "[\n",
      "  {\n",
      "    \"book_id\": 1,\n",
      "    \"title\": \"1984\",\n",
      "    \"author\": \"George Orwell\",\n",
      "    \"genre\": \"Dystopian Fiction\"\n",
      "  },\n",
      "  {\n",
      "    \"book_id\": 2,\n",
      "    \"title\": \"To Kill a Mockingbird\",\n",
      "    \"author\": \"Harper Lee\",\n",
      "    \"genre\": \"Southern Gothic Fiction\"\n",
      "  },\n",
      "  {\n",
      "    \"book_id\": 3,\n",
      "    \"title\": \"The Hitchhiker's Guide to the Galaxy\",\n",
      "    \"author\": \"Douglas Adams\",\n",
      "    \"genre\": \"Science Fiction\"\n",
      "  }\n",
      "]\n"
     ]
    }
   ],
   "source": [
    "prompt = f\"\"\"\n",
    "書籍のタイトルを3つ選び、そのリストを作成する \\\n",
    "を、著者とジャンルとともに提供する。\n",
    "以下のキーを持つJSONフォーマットで提供する:\n",
    "book_id、title、author、genre.\n",
    "\"\"\"\n",
    "response = get_completion(prompt)\n",
    "print(response)"
   ]
  },
  {
   "cell_type": "markdown",
   "metadata": {},
   "source": [
    "#### Tactic3 口頭形式で書かれた文章を箇条書きに変形する処理です"
   ]
  },
  {
   "cell_type": "code",
   "execution_count": 9,
   "metadata": {
    "tags": []
   },
   "outputs": [
    {
     "name": "stdout",
     "output_type": "stream",
     "text": [
      "Completion for Text 1:\n",
      "Step 1 - 水を沸騰させる。\n",
      "Step 2 - カップにティーバッグを入れる。\n",
      "Step 3 - 沸騰したお湯をティーバッグの上に注ぐ。\n",
      "Step 4 - 紅茶を蒸らすために数分間待つ。\n",
      "Step 5 - ティーバッグを取り出す。\n",
      "Step 6 - 砂糖やミルクを加える場合はお好みで加える。\n",
      "Step 7 - 完成！\n"
     ]
    }
   ],
   "source": [
    "text_1 = f\"\"\"\n",
    "紅茶を淹れるのは簡単です！\n",
    "まず、校舎を淹れるために水を沸騰させる。\n",
    "その間に、カップを手に取り、ティーバッグを入れる。\n",
    "お湯が沸いたらティーバッグの上に注いでください。\n",
    "紅茶を蒸らすために少し置きます。 \n",
    "数分後、ティーバッグを取り出します。\n",
    "もしあなたが、甘い方が好きであれば、お好みで砂糖やミルクを加えてもよいでしょう。\\ \n",
    "これだけです！\n",
    "\"\"\"\n",
    "prompt = f\"\"\"\n",
    "トリプルクォートで区切られたテキストが提供されます。 \n",
    "一連の方法を次のような形式で書き換えて下さい。\n",
    "\n",
    "Step 1 - ...\n",
    "Step 2 - …\n",
    "…\n",
    "Step N - …\n",
    "\n",
    "テキストに一連の指示が含まれていない場合、\n",
    "「手順はありません。」と書いて下さい\"\n",
    "\n",
    "\\\"\\\"\\\"{text_1}\\\"\\\"\\\"\n",
    "\"\"\"\n",
    "response = get_completion(prompt)\n",
    "print(\"Completion for Text 1:\")\n",
    "print(response)"
   ]
  },
  {
   "cell_type": "code",
   "execution_count": 10,
   "metadata": {
    "tags": []
   },
   "outputs": [
    {
     "name": "stdout",
     "output_type": "stream",
     "text": [
      "Completion for Text 2:\n",
      "手順はありません。\n"
     ]
    }
   ],
   "source": [
    "text_2 = f\"\"\"\n",
    "今日は日差しが強く、鳥の鳴き声も聞こえてきますね。\n",
    "公園を散歩するにはとてもいい日です。\n",
    "花は咲き乱れ、木々はそよ風に優しく揺れている。\n",
    "人々は外に出て、素敵な天気を楽しんでいます。\n",
    "ピクニックをしている人もいれば、ゲームをしたり、芝生の上でくつろいだりしている人もいる。\n",
    "自然の美しさを感じながら、屋外で過ごすのに最適な日です。\n",
    "\"\"\"\n",
    "\n",
    "prompt = f\"\"\"\n",
    "トリプルクォートで区切られたテキストが提供されます。 \n",
    "一連の方法を次のような形式で書き換えて下さい。\n",
    "\n",
    "Step 1 - ...\n",
    "Step 2 - …\n",
    "…\n",
    "Step N - …\n",
    "\n",
    "テキストに一連の指示が含まれていない場合、\n",
    "「手順はありません。」と書いて下さい\"\n",
    "\n",
    "\\\"\\\"\\\"{text_2}\\\"\\\"\\\"\n",
    "\"\"\"\n",
    "response = get_completion(prompt)\n",
    "print(\"Completion for Text 2:\")\n",
    "print(response)"
   ]
  },
  {
   "cell_type": "markdown",
   "metadata": {},
   "source": [
    "↑の文章は手順はなく、単に感想を書いている文章であるので\n",
    "「手順はありません」と返却されます"
   ]
  },
  {
   "cell_type": "markdown",
   "metadata": {},
   "source": [
    "#### Tactic4 指定したスタイルで答えさせることも可能です(関西弁指定)"
   ]
  },
  {
   "cell_type": "code",
   "execution_count": 14,
   "metadata": {
    "tags": []
   },
   "outputs": [
    {
     "name": "stdout",
     "output_type": "stream",
     "text": [
      "<祖父母>：回復力とは、体や心が傷ついたり疲れたりしたときに、自分自身で元気を取り戻す力やねん。良い食事や十分な睡眠、運動やリラックスする時間を取ることが大切やで。また、ポジティブな考え方や、自分を励ます言葉をかけることも回復力を高めるんやで。\n"
     ]
    }
   ],
   "source": [
    "prompt = f\"\"\"\n",
    "あなたの仕事は、一貫したスタイルで答えることです。\n",
    "\n",
    "<子供>: 忍耐について教えてください。\n",
    "\n",
    "<祖父母>：つらさ・苦しさ・怒りを、じっと我慢することやねん。\n",
    "たえしのぶことでもあるで。\n",
    "\n",
    "<子供>: 回復力について教えてください。\n",
    "\"\"\"\n",
    "response = get_completion(prompt)\n",
    "print(response)"
   ]
  },
  {
   "cell_type": "markdown",
   "metadata": {},
   "source": [
    "### Principle2 モデルに \"考える\" 時間を与える"
   ]
  },
  {
   "cell_type": "markdown",
   "metadata": {},
   "source": [
    "#### Tactic1 タスクを完了するために必要なステップを指定する"
   ]
  },
  {
   "cell_type": "code",
   "execution_count": 5,
   "metadata": {
    "tags": []
   },
   "outputs": [
    {
     "name": "stdout",
     "output_type": "stream",
     "text": [
      "Jack and Jill, siblings from a village, went to fetch water from a hill. Jack stumbled on a rock and tumbled down the slope, followed by Jill. Despite their mishap, their adventurous spirit did not falter, and they continued on their adventure.\n",
      "\n",
      "Jack et Jill, frère et sœur d'un village, sont allés chercher de l'eau sur une colline. Jack a trébuché sur une pierre et a roulé en bas de la pente, suivi par Jill. Malgré leur mésaventure, leur esprit d'aventure ne faiblit pas et ils ont continué leur aventure.\n",
      "\n",
      "Jack\n",
      "Jill\n",
      "\n",
      "{\n",
      "  \"french_summary\": \"Jack et Jill, frère et sœur d'un village, sont allés chercher de l'eau sur une colline. Jack a trébuché sur une pierre et a roulé en bas de la pente, suivi par Jill. Malgré leur mésaventure, leur esprit d'aventure ne faiblit pas et ils ont continué leur aventure.\",\n",
      "  \"num_names\": 2\n",
      "}\n"
     ]
    }
   ],
   "source": [
    "text = f\"\"\"\n",
    "ある村に住むジャックとジルの兄妹は、丘の上にある水を汲みに行くことにした。\n",
    "ジャックは石につまずき、坂を転げ落ち、ジルもそれに続く。\n",
    "ジャックは石につまづいて転げ落ち、ジルも同じように転げ落ちた。\n",
    "しかし、2人の冒険心は怯えることなる、冒険をに行くのであった。\n",
    "\"\"\"\n",
    "prompt = f\"\"\"\n",
    "以下の動作を実行しなさい： \n",
    "1 - 三重のバックティックで区切られた以下のテキストを1文に要約する。\n",
    "2 - 要約をフランス語に翻訳する。\n",
    "3 - フランス語の要約にある各氏名をリストアップする。\n",
    "4 - 次のkeyを含む json オブジェクトを生成する。\n",
    "key: french_summary, num_names.\n",
    "\n",
    "回答は改行で区切ってください。\n",
    "```{text}```\n",
    "\"\"\"\n",
    "response = get_completion(prompt)\n",
    "print(response)"
   ]
  },
  {
   "cell_type": "markdown",
   "metadata": {},
   "source": [
    "#### Ask for output in a specified format"
   ]
  },
  {
   "cell_type": "code",
   "execution_count": 7,
   "metadata": {
    "tags": []
   },
   "outputs": [
    {
     "name": "stdout",
     "output_type": "stream",
     "text": [
      "\n",
      "Completion for prompt 2:\n",
      "概要: ジャックとジルの兄妹は、水を汲みに行く途中で転倒し、冒険を続けることに決めた。\n",
      "\n",
      "翻訳： Jack et Jill, frère et sœur vivant dans un village, ont décidé d'aller chercher de l'eau sur une colline. Jack a trébuché sur une pierre et est tombé en bas de la colline, suivi par Jill. Cependant, leur esprit d'aventure ne les a pas effrayés et ils ont décidé de continuer leur aventure.\n",
      "\n",
      "名前： Jack, Jill\n",
      "\n",
      "出力されるJSON：{\"french_summary\": \"Jack et Jill, frère et sœur vivant dans un village, ont décidé d'aller chercher de l'eau sur une colline. Jack a trébuché sur une pierre et est tombé en bas de la colline, suivi par Jill. Cependant, leur esprit d'aventure ne les a pas effrayés et ils ont décidé de continuer leur aventure.\", \"num_names\": 2}\n"
     ]
    }
   ],
   "source": [
    "prompt_2 = f\"\"\"\n",
    "あなたのタスクは、以下のアクションを実行することです： \n",
    "1 - 次のテキストを要約してください。<>を1文とする。\n",
    "2 - 要約をフランス語に翻訳する。\n",
    "3 - フランス語の要約にある各氏名をリストアップする。\n",
    "4 - を含むjsonオブジェクトを出力する。\n",
    "key：french_summary、num_names。\n",
    "\n",
    "以下のフォーマットを使用します：\n",
    "テキスト <text to summarize>\n",
    "概要 <summary>\n",
    "翻訳： <summary translation>\n",
    "名前： <イタリア語要約の名前のリスト>。\n",
    "出力されるJSON：<jsonにsummaryとnum_namesが含まれる>。\n",
    "\n",
    "\n",
    "Text: <{text}>\n",
    "\"\"\"\n",
    "response = get_completion(prompt_2)\n",
    "print(\"\\nCompletion for prompt 2:\")\n",
    "print(response)"
   ]
  },
  {
   "cell_type": "markdown",
   "metadata": {},
   "source": [
    "#### Tactic2 計算過程と結果が合っているかを確認する"
   ]
  },
  {
   "cell_type": "code",
   "execution_count": 9,
   "metadata": {
    "tags": []
   },
   "outputs": [
    {
     "name": "stdout",
     "output_type": "stream",
     "text": [
      "解答は正しいです。総費用は土地代、ソーラーパネル費用、メンテナンス費用の合計であり、それぞれの費用を平方フィートの数の関数として計算し、合計することで求められます。生徒はそれぞれの費用を正しく計算し、総費用を求めることができました。\n"
     ]
    }
   ],
   "source": [
    "prompt = f\"\"\"\n",
    "タスクは生徒の解答が正しいかどうかを判断することです\n",
    "\n",
    "質問：\n",
    "私は太陽光発電設備を建設しているのですが、財務の計算を手伝ってほしい。\n",
    "初年度の総費用はどのくらいかを平方フィートの数の関数として計算する。\n",
    "- 土地代は100ドル/平方フィート\n",
    "- 250ドル/平方フィートでソーラーパネルを購入できる\n",
    "- 年間一律10万円、追加で10ドル/平方フィートの費用がかかるメンテナンスの契約を交渉した。\n",
    "\n",
    "生徒の解答\n",
    "設置場所の広さを平方フィートで表したものをxとする。\n",
    "以下が計算結果です：\n",
    "1. 土地代：100x\n",
    "2. ソーラーパネル費用：250x\n",
    "3. メンテナンス費用：100,000＋100x\n",
    "総コスト：100x＋250x＋100,000＋100x＝450x＋100,000\n",
    "\"\"\"\n",
    "response = get_completion(prompt)\n",
    "print(response)"
   ]
  },
  {
   "cell_type": "markdown",
   "metadata": {},
   "source": [
    "生徒の回答が合っているかの、結論に至る前にモデルに独自のソリューションを推論するように明示的に指示すると、より良い結果が得られることがあります。\n",
    "モデルが独自に考える時間を与えることで、生徒の回答が本当に合っているかの判定精度を上げることができます"
   ]
  },
  {
   "cell_type": "markdown",
   "metadata": {
    "tags": []
   },
   "source": [
    "日本語で実行すると、思い通りの実行結果にならなかったので、英語で実行しています。\n",
    "なお、日本語での実行文は以下の内容\n",
    "prompt = f\"\"\"\n",
    "あなたの仕事は、生徒の解答が正しいかどうかを判断することです。\n",
    "この問題を解くには、次のようにします：\n",
    "- まず、自分なりの解答を作成する。\n",
    "- あなたの解答と生徒の解答を比較し、生徒の解答が正しいかどうかを評価する。\n",
    "- 生徒の解答が正しいかどうかは、自分で問題を解くまで決めないでください。\n",
    "\n",
    "次のような形式にしてください:\n",
    "\n",
    "質問:\n",
    "```\n",
    "質問はここに記載してください\n",
    "```\n",
    "\n",
    "生徒の回答:\n",
    "```\n",
    "生徒の回答はここに記載してください\n",
    "```\n",
    "\n",
    "あなたの回答:\n",
    "```\n",
    "解決策を導き出す手順とあなたの回答はここに記載してください\n",
    "```\n",
    "\n",
    "生徒の回答とあなたの回答と一致しますか:\n",
    "```\n",
    "一致 or 不一致\n",
    "```\n",
    "\n",
    "生徒の回答:\n",
    "```\n",
    "正解 or 不正解\n",
    "```\n",
    "\n",
    "質問:\n",
    "```\n",
    "私は太陽光発電設備を建設しているのですが、財務の計算を手伝ってほしい。\n",
    "初年度の総費用はどのくらいかを平方フィートの数の関数として計算する。\n",
    "- 土地代は100ドル/平方フィート\n",
    "- 250ドル/平方フィートでソーラーパネルを購入できる\n",
    "- 年間一律10万円、追加で10ドル/平方フィートの費用がかかるメンテナンスの契約を交渉した。\n",
    "``` \n",
    "\n",
    "生徒の回答:\n",
    "```\n",
    "設置場所の広さを平方フィートで表したものをxとする。\n",
    "以下が計算結果です：\n",
    "1. 土地代：100x\n",
    "2. ソーラーパネル費用：250x\n",
    "3. メンテナンス費用：100,000＋100x\n",
    "総コスト：100x＋250x＋100,000＋100x＝450x＋100,000\n",
    "```\n",
    "\n",
    "あなたの回答:\n",
    "\"\"\""
   ]
  },
  {
   "cell_type": "code",
   "execution_count": 20,
   "metadata": {
    "tags": []
   },
   "outputs": [
    {
     "name": "stdout",
     "output_type": "stream",
     "text": [
      "Let x be the size of the installation in square feet.\n",
      "\n",
      "Costs:\n",
      "1. Land cost: 100x\n",
      "2. Solar panel cost: 250x\n",
      "3. Maintenance cost: 100,000 + 10x\n",
      "\n",
      "Total cost: 100x + 250x + 100,000 + 10x = 360x + 100,000\n",
      "\n",
      "Is the student's solution the same as actual solution just calculated:\n",
      "No\n",
      "\n",
      "Student grade:\n",
      "Incorrect\n"
     ]
    }
   ],
   "source": [
    "prompt = f\"\"\"\n",
    "Your task is to determine if the student's solution \\\n",
    "is correct or not.\n",
    "To solve the problem do the following:\n",
    "- First, work out your own solution to the problem. \n",
    "- Then compare your solution to the student's solution \\ \n",
    "and evaluate if the student's solution is correct or not. \n",
    "Don't decide if the student's solution is correct until \n",
    "you have done the problem yourself.\n",
    "\n",
    "Use the following format:\n",
    "Question:\n",
    "```\n",
    "question here\n",
    "```\n",
    "Student's solution:\n",
    "```\n",
    "student's solution here\n",
    "```\n",
    "Actual solution:\n",
    "```\n",
    "steps to work out the solution and your solution here\n",
    "```\n",
    "Is the student's solution the same as actual solution \\\n",
    "just calculated:\n",
    "```\n",
    "yes or no\n",
    "```\n",
    "Student grade:\n",
    "```\n",
    "correct or incorrect\n",
    "```\n",
    "\n",
    "Question:\n",
    "```\n",
    "I'm building a solar power installation and I need help \\\n",
    "working out the financials. \n",
    "- Land costs $100 / square foot\n",
    "- I can buy solar panels for $250 / square foot\n",
    "- I negotiated a contract for maintenance that will cost \\\n",
    "me a flat $100k per year, and an additional $10 / square \\\n",
    "foot\n",
    "What is the total cost for the first year of operations \\\n",
    "as a function of the number of square feet.\n",
    "``` \n",
    "Student's solution:\n",
    "```\n",
    "Let x be the size of the installation in square feet.\n",
    "Costs:\n",
    "1. Land cost: 100x\n",
    "2. Solar panel cost: 250x\n",
    "3. Maintenance cost: 100,000 + 100x\n",
    "Total cost: 100x + 250x + 100,000 + 100x = 450x + 100,000\n",
    "```\n",
    "Actual solution:\n",
    "\"\"\"\n",
    "response = get_completion(prompt)\n",
    "print(response)"
   ]
  },
  {
   "cell_type": "markdown",
   "metadata": {},
   "source": [
    "### 存在しない物を説明させる"
   ]
  },
  {
   "cell_type": "markdown",
   "metadata": {},
   "source": [
    "これがちょっと危険な理由は、これが実際にはかなりリアルに聞こえるからです。\n",
    "実際に岡崎健康法という方法は存在しません(田中調べ)"
   ]
  },
  {
   "cell_type": "code",
   "execution_count": 23,
   "metadata": {
    "tags": []
   },
   "outputs": [
    {
     "name": "stdout",
     "output_type": "stream",
     "text": [
      "岡崎健康法は、岡崎久彦氏が提唱する健康法で、食事、運動、睡眠、心の健康など、総合的な健康管理を目的としています。具体的には、野菜中心の食事、適度な運動、十分な睡眠、ストレスを減らすための心のケアなどが重要視されています。また、岡崎氏は、健康に必要な栄養素をバランスよく摂取することが重要であるとして、ビタミンやミネラル、酵素などを豊富に含む生野菜や果物を積極的に摂取することを推奨しています。岡崎健康法は、健康に関心のある人にとって参考になる情報が多く含まれています。\n"
     ]
    }
   ],
   "source": [
    "prompt = f\"\"\"\n",
    "「岡崎健康法について教えてください」\n",
    "\"\"\"\n",
    "response = get_completion(prompt)\n",
    "print(response)"
   ]
  },
  {
   "cell_type": "code",
   "execution_count": null,
   "metadata": {},
   "outputs": [],
   "source": []
  }
 ],
 "metadata": {
  "kernelspec": {
   "display_name": "Python 3 (ipykernel)",
   "language": "python",
   "name": "python3"
  },
  "language_info": {
   "codemirror_mode": {
    "name": "ipython",
    "version": 3
   },
   "file_extension": ".py",
   "mimetype": "text/x-python",
   "name": "python",
   "nbconvert_exporter": "python",
   "pygments_lexer": "ipython3",
   "version": "3.8.16"
  }
 },
 "nbformat": 4,
 "nbformat_minor": 4
}
