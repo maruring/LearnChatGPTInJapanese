{
 "cells": [
  {
   "cell_type": "markdown",
   "id": "611d9b80-150c-4757-8428-8380387b0cf1",
   "metadata": {},
   "source": [
    "# Expanding\n",
    "短いテキストから長いテキストに拡張する処理を学習します"
   ]
  },
  {
   "cell_type": "markdown",
   "id": "cff99093-96ef-4154-b3ec-230c0d8ae672",
   "metadata": {},
   "source": [
    "## import"
   ]
  },
  {
   "cell_type": "code",
   "execution_count": 1,
   "id": "89837150-a149-4e01-9253-bc0ac13c7bc2",
   "metadata": {
    "tags": []
   },
   "outputs": [],
   "source": [
    "import openai\n",
    "import json"
   ]
  },
  {
   "cell_type": "markdown",
   "id": "ced3f9a4-c52c-4313-bd3a-b1dfc48fe9bb",
   "metadata": {},
   "source": [
    "## APIkey設定"
   ]
  },
  {
   "cell_type": "code",
   "execution_count": 2,
   "id": "f9adeeb8-836e-459b-9882-230915110e52",
   "metadata": {
    "tags": []
   },
   "outputs": [],
   "source": [
    "json_file = open(\"./apikey.json\", 'r')\n",
    "api_key = json.load(json_file)\n",
    "openai.api_key = api_key[\"apikey\"]"
   ]
  },
  {
   "cell_type": "markdown",
   "id": "804c7e7f-d6f9-46c8-968c-e3c3962052dd",
   "metadata": {},
   "source": [
    "## 実行関数"
   ]
  },
  {
   "cell_type": "code",
   "execution_count": 3,
   "id": "515994e5-ba64-4148-b4ec-7facfefeec19",
   "metadata": {
    "tags": []
   },
   "outputs": [],
   "source": [
    "def get_completion(prompt, model=\"gpt-3.5-turbo\"):\n",
    "    messages = [{\"role\": \"user\", \"content\": prompt}]\n",
    "    response = openai.ChatCompletion.create(\n",
    "        model=model,\n",
    "        messages=messages,\n",
    "        temperature=0, # this is the degree of randomness of the model's output\n",
    "    )\n",
    "    return response.choices[0].message[\"content\"]"
   ]
  },
  {
   "cell_type": "markdown",
   "id": "cac2df91-7c4f-427f-8981-0f1bfa20bfe1",
   "metadata": {},
   "source": [
    "### クライアントからのメールを返信する"
   ]
  },
  {
   "cell_type": "code",
   "execution_count": 4,
   "id": "b7027fd0-d6fd-4e32-ac17-0fb7ff38c1ca",
   "metadata": {
    "tags": []
   },
   "outputs": [],
   "source": [
    "sentiment = \"悲しい\"\n",
    "\n",
    "# review for a blender\n",
    "review = f\"\"\"\n",
    "11月のシーズンセールでは、17ピースシステムが約49ドルと半額で販売されていたのですが、\n",
    "12月の第2週あたりから、なぜか（価格破壊とでもいいましょうか）同じシステムで70ドルから89ドルくらいに値上がりしてしまったんですね。\n",
    "また、11ピースのシステムも、以前のセール価格29ドルから10ドルほど値上がりしています。\n",
    "しかし、私はこのブレンダーをとても大切に使いたいと思っています\n",
    "（例えば、豆、氷、米など、とても硬いものをまずブレンダーで砕き、次にブレンダーで必要な分量に粉砕し、より細かい粉にするためにホイッピングブレードに切り替える、\n",
    "スムージーを作るときはまずクロスカットブレードを使い、より細かく、よりパルプ感が必要ならフラットブレードを使う）。\n",
    "スムージーを作るときの特別なアドバイスですが、使う予定の果物や野菜を細かく切って冷凍しておくと\n",
    "（ほうれん草を使う場合は軽く煮込んで柔らかくしてから冷凍し、シャーベットを作る場合は小～中サイズのフードプロセッサーを使います）\n",
    "、スムージーを作るときに氷をあまり入れずに済みます。\n",
    "1年ぐらいでモーターから変な音がするようになりました。\n",
    "カスタマーサービスに電話しましたが、保証がすでに切れていたので、別のものを買わなければなりませんでした。\n",
    "参考：この手の製品は全体的に品質が落ちているので、ブランド認知度や消費者のロイヤリティに頼って売り上げを維持しているようなものです。2日ほどで届きました。\n",
    "\"\"\""
   ]
  },
  {
   "cell_type": "code",
   "execution_count": 8,
   "id": "9fda6176-013f-4668-8c20-7f0df125b60b",
   "metadata": {
    "tags": []
   },
   "outputs": [
    {
     "name": "stdout",
     "output_type": "stream",
     "text": [
      "返信: \n",
      "Dear valued customer,\n",
      "\n",
      "Thank you for taking the time to share your review with us. We are sorry to hear that you are disappointed with the recent price increase of our 17-piece system and 11-piece system. We understand how frustrating it can be when prices change unexpectedly.\n",
      "\n",
      "We apologize for any inconvenience this may have caused you. We appreciate your loyalty to our brand and we want to make sure that you are satisfied with your purchase. If you have any further concerns, please do not hesitate to contact our customer service team for assistance.\n",
      "\n",
      "Thank you for your special advice on making smoothies. We will definitely keep that in mind.\n",
      "\n",
      "We are sorry to hear that your blender started making strange noises after a year of use. Unfortunately, since the warranty has expired, we are unable to provide a replacement. We understand your frustration and we will take your feedback into consideration as we continue to improve our products.\n",
      "\n",
      "Thank you for choosing our brand and we hope to have the opportunity to serve you again in the future.\n",
      "\n",
      "Sincerely,\n",
      "\n",
      "AI customer agent\n"
     ]
    }
   ],
   "source": [
    "prompt = f\"\"\"\n",
    "あなたはカスタマーサービスのAIアシスタントです。\n",
    "あなたの仕事は、大切なお客さんに返信メールを送ることです。\n",
    "3つのバッククォートで区切られた顧客の電子メールが与えられたら、顧客のレビューに感謝するための返信を生成します。\n",
    "肯定的または中立的な感情であれば、レビューに感謝します。\n",
    "否定的な意見の場合は、謝罪し、カスタマーサービスに連絡することを提案します。\n",
    "メールの署名は、「AI customer agent」とする。\n",
    "\n",
    "レビュー: ```{review}```\n",
    "感情: {sentiment}\n",
    "\"\"\"\n",
    "response = get_completion(prompt)\n",
    "print(response)"
   ]
  },
  {
   "cell_type": "markdown",
   "id": "e0c97c71-b0fc-4d76-b821-941bbac0064b",
   "metadata": {},
   "source": [
    "#### レビューの内容を引用することを指示できます"
   ]
  },
  {
   "cell_type": "code",
   "execution_count": 7,
   "id": "064f142d-5236-4e69-9ebb-2cb7821b35d6",
   "metadata": {
    "tags": []
   },
   "outputs": [
    {
     "name": "stdout",
     "output_type": "stream",
     "text": [
      "件名: ご購入いただきありがとうございます\n",
      "\n",
      "尊敬するお客様、\n",
      "\n",
      "この度は当社の製品をご購入いただき、誠にありがとうございます。\n",
      "お客様からのレビューを拝見し、大変残念な気持ちになりました。\n",
      "お客様がおっしゃるように、当社の製品は品質に問題がある場合があります。\n",
      "お客様にご迷惑をおかけし、誠に申し訳ございません。\n",
      "\n",
      "お客様が製品を大切に使いたいと思っていただけることは、私たちにとって非常に嬉しいことです。\n",
      "また、お客様からのスムージー作りのアドバイスも参考になります。\n",
      "今後もお客様に満足いただける製品を提供できるよう、努めてまいります。\n",
      "\n",
      "お客様の製品についての問題については、カスタマーサービスにご連絡いただき、対応させていただきます。\n",
      "何かお力になれることがありましたら、いつでもお気軽にお問い合わせください。\n",
      "\n",
      "AI customer agent\n"
     ]
    }
   ],
   "source": [
    "prompt = f\"\"\"\n",
    "あなたはカスタマーサービスのAIアシスタントです。\n",
    "あなたの仕事は、大切なお客さんに返信メールを送ることです。\n",
    "バッククォートで区切られた顧客の電子メールが与えられたら、顧客のレビューに感謝するための返信を生成します。\n",
    "肯定的または中立的な感情であれば、レビューに感謝しなさ。\n",
    "否定的な意見の場合は、謝罪し、カスタマーサービスに連絡することを提案しなさい。\n",
    "レビューに書かれている具体的な内容を必ず返信メール内に使用しなさい。\n",
    "簡潔でプロフェッショナルな文章にしなさい。\n",
    "メールの署名は、「AI customer agent」とする。\n",
    "\n",
    "レビュー: ```{review}```\n",
    "感情: {sentiment}\n",
    "\"\"\"\n",
    "response = get_completion(prompt)\n",
    "print(response)"
   ]
  },
  {
   "cell_type": "code",
   "execution_count": null,
   "id": "2c6c9724-785b-4d04-94e9-09a52f1f9b5f",
   "metadata": {},
   "outputs": [],
   "source": []
  }
 ],
 "metadata": {
  "kernelspec": {
   "display_name": "Python 3 (ipykernel)",
   "language": "python",
   "name": "python3"
  },
  "language_info": {
   "codemirror_mode": {
    "name": "ipython",
    "version": 3
   },
   "file_extension": ".py",
   "mimetype": "text/x-python",
   "name": "python",
   "nbconvert_exporter": "python",
   "pygments_lexer": "ipython3",
   "version": "3.8.16"
  }
 },
 "nbformat": 4,
 "nbformat_minor": 5
}
