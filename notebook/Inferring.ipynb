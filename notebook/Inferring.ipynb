{
 "cells": [
  {
   "cell_type": "markdown",
   "id": "e2862a40-15ea-4e7a-bfde-b3dae577f092",
   "metadata": {},
   "source": [
    "# Inferring\n",
    "このレッスンでは、製品のレビューやニュース記事から、感情やトピックを推測する処理を学習します"
   ]
  },
  {
   "cell_type": "markdown",
   "id": "e57c018f-a35d-45aa-b171-7a42d7c971c8",
   "metadata": {},
   "source": [
    "## import"
   ]
  },
  {
   "cell_type": "code",
   "execution_count": 1,
   "id": "274c6500-da36-4ec3-ab42-b65e68b66867",
   "metadata": {
    "tags": []
   },
   "outputs": [],
   "source": [
    "import openai\n",
    "import json"
   ]
  },
  {
   "cell_type": "markdown",
   "id": "74f5b4e5-31f8-4842-af93-492e08199a5d",
   "metadata": {},
   "source": [
    "## APIkey設定"
   ]
  },
  {
   "cell_type": "code",
   "execution_count": 2,
   "id": "e9c0d245-cc1e-493b-ab35-be907c616212",
   "metadata": {
    "tags": []
   },
   "outputs": [],
   "source": [
    "json_file = open(\"./apikey.json\", 'r')\n",
    "api_key = json.load(json_file)\n",
    "openai.api_key = api_key[\"apikey\"]"
   ]
  },
  {
   "cell_type": "markdown",
   "id": "07e4d903-ac92-48b8-ba5b-2f52ee8fd216",
   "metadata": {},
   "source": [
    "## 実行関数"
   ]
  },
  {
   "cell_type": "code",
   "execution_count": 3,
   "id": "bfb39da3-b5fb-4510-9e40-e65aeb795d00",
   "metadata": {
    "tags": []
   },
   "outputs": [],
   "source": [
    "def get_completion(prompt, model=\"gpt-3.5-turbo\"):\n",
    "    messages = [{\"role\": \"user\", \"content\": prompt}]\n",
    "    response = openai.ChatCompletion.create(\n",
    "        model=model,\n",
    "        messages=messages,\n",
    "        temperature=0, # this is the degree of randomness of the model's output\n",
    "    )\n",
    "    return response.choices[0].message[\"content\"]"
   ]
  },
  {
   "cell_type": "markdown",
   "id": "04fd842b-f88f-4cc7-b671-0875c493b7f2",
   "metadata": {},
   "source": [
    "以下はランプ(製品)に関するレビューです"
   ]
  },
  {
   "cell_type": "code",
   "execution_count": 5,
   "id": "025e9893-b111-45ab-a0cf-7909fa9af8dd",
   "metadata": {
    "tags": []
   },
   "outputs": [],
   "source": [
    "lamp_review = \"\"\"\n",
    "寝室用に素敵なランプが必要で、こちらは収納もついていて、価格帯も高くないので、購入しました。\n",
    "早く手に入った。\n",
    "ランプの紐が輸送中に切れてしまったのですが、新しいものを送ってくれました。\n",
    "同じく数日以内に来ました。\n",
    "組み立ても簡単でした。\n",
    "私は部品が足りなかったので、彼らのサポートに連絡し、彼らは非常に迅速に不足している部品を手に入れました！\n",
    "ルミナは、顧客と製品を大切にする素晴らしい会社のように思います！\n",
    "\"\"\""
   ]
  },
  {
   "cell_type": "markdown",
   "id": "6262b937-38fd-4281-a752-7a358e314650",
   "metadata": {},
   "source": [
    "### レビューのpositive or negativeかを判定"
   ]
  },
  {
   "cell_type": "code",
   "execution_count": 6,
   "id": "29bc05d5-f815-49d6-ac38-57be97dcfb14",
   "metadata": {
    "tags": []
   },
   "outputs": [
    {
     "name": "stdout",
     "output_type": "stream",
     "text": [
      "良\n"
     ]
    }
   ],
   "source": [
    "prompt = f\"\"\"\n",
    "次の製品レビューの評価を教えてください。\n",
    "答えは「良」または「悪」で答えなさい\n",
    "\n",
    "製品レビュー: '''{lamp_review}'''\n",
    "\"\"\"\n",
    "response = get_completion(prompt)\n",
    "print(response)"
   ]
  },
  {
   "cell_type": "markdown",
   "id": "7692534e-6460-4266-9848-10e2fbff69d6",
   "metadata": {},
   "source": [
    "### レビューの感情を予測しています"
   ]
  },
  {
   "cell_type": "code",
   "execution_count": 8,
   "id": "ece8482a-3baa-4b50-91ce-9f9b72e25c80",
   "metadata": {
    "tags": []
   },
   "outputs": [
    {
     "name": "stdout",
     "output_type": "stream",
     "text": [
      "嬉しい, 満足, 安心, 感謝, 賞賛\n"
     ]
    }
   ],
   "source": [
    "prompt = f\"\"\"\n",
    "以下のレビューの書き手が表現している感情を5つリストアップしてください。\n",
    "コンマで区切られた小文字の単語のリストとして、あなたの答えをフォーマットしてください。\n",
    "\n",
    "\n",
    "製品レビュー : '''{lamp_review}'''\n",
    "\"\"\"\n",
    "response = get_completion(prompt)\n",
    "print(response)"
   ]
  },
  {
   "cell_type": "markdown",
   "id": "b17b35b1-f91b-40e5-8049-b98d85c0b602",
   "metadata": {},
   "source": [
    "### レビューの書き手が怒っているかを判定"
   ]
  },
  {
   "cell_type": "code",
   "execution_count": 9,
   "id": "757634bc-8e45-4291-b427-2f8f8a982054",
   "metadata": {
    "tags": []
   },
   "outputs": [
    {
     "name": "stdout",
     "output_type": "stream",
     "text": [
      "いいえ\n"
     ]
    }
   ],
   "source": [
    "prompt = f\"\"\"\n",
    "以下のレビューの書き手は、怒りを表現しているかを答えてください。。\n",
    "答えは「はい」「いいえ」のどちらかでお答えください。\n",
    "\n",
    "\n",
    "製品レビュー : '''{lamp_review}'''\n",
    "\"\"\"\n",
    "response = get_completion(prompt)\n",
    "print(response)"
   ]
  },
  {
   "cell_type": "markdown",
   "id": "5f484ddf-b75e-444b-aecd-a3af91c90f14",
   "metadata": {},
   "source": [
    "### 製品名と会社名を抽出"
   ]
  },
  {
   "cell_type": "code",
   "execution_count": 10,
   "id": "f0c06b33-f2b4-4bcb-bc37-009767829788",
   "metadata": {
    "tags": []
   },
   "outputs": [
    {
     "name": "stdout",
     "output_type": "stream",
     "text": [
      "{\n",
      "  \"商品\": \"寝室用ランプ\",\n",
      "  \"会社名\": \"ルミナ\"\n",
      "}\n"
     ]
    }
   ],
   "source": [
    "prompt = f\"\"\"\n",
    "以下のレビューから以下の項目を確認しなさい： \n",
    "- レビュアーが購入した商品\n",
    "- 商品を作った会社名\n",
    "\n",
    "「商品」と「会社名」をキーとするJSONオブジェクトとしてレスポンスをフォーマットしてください。\n",
    "情報が存在しない場合は、「unknown」を値として使用しなさい。\n",
    "回答はできるだけ短くしてください。\n",
    "  \n",
    "\n",
    "\n",
    "製品レビュー : '''{lamp_review}'''\n",
    "\"\"\"\n",
    "response = get_completion(prompt)\n",
    "print(response)"
   ]
  },
  {
   "cell_type": "markdown",
   "id": "53636e61-23e1-4a50-a040-8a871a68cbf2",
   "metadata": {},
   "source": [
    "### 複数タスクの同時実行"
   ]
  },
  {
   "cell_type": "code",
   "execution_count": 13,
   "id": "28b5f09f-1f82-4c3d-819d-18f906aebdd9",
   "metadata": {
    "tags": []
   },
   "outputs": [
    {
     "name": "stdout",
     "output_type": "stream",
     "text": [
      "{\n",
      "  \"感情\": \"良\",\n",
      "  \"怒り\": false,\n",
      "  \"商品\": \"寝室用ランプ\",\n",
      "  \"会社\": \"ルミナ\"\n",
      "}\n"
     ]
    }
   ],
   "source": [
    "prompt = f\"\"\"\n",
    "以下のレビューから以下の項目を確認しなさい： \n",
    "- 感情（肯定的または否定的）\n",
    "- レビュアーは怒りを表現しているのか？(真or偽)\n",
    "- レビュアーが購入した商品\n",
    "- 商品を作った会社\n",
    "\n",
    "回答は、「感情」「怒り」「商品」「会社」をキーとするJSONオブジェクトとしてフォーマットしてください。\n",
    "情報が存在しない場合は、値として「unknown」を使用します。\n",
    "回答はできるだけ短くしてください。\n",
    "感情は「良」or「悪」のどちらかでフォーマットしてください。\n",
    "怒りの値をブール値としてフォーマットしてください。\n",
    "\n",
    "製品レビュー : '''{lamp_review}'''\n",
    "\"\"\"\n",
    "response = get_completion(prompt)\n",
    "print(response)"
   ]
  },
  {
   "cell_type": "markdown",
   "id": "3dbd7dae-675d-4643-b6ee-0d378b1a014e",
   "metadata": {},
   "source": [
    "### 何の内容について記載されているかを推論"
   ]
  },
  {
   "cell_type": "code",
   "execution_count": 17,
   "id": "e9885e02-39a7-436d-9b68-a04da101fd81",
   "metadata": {
    "tags": []
   },
   "outputs": [],
   "source": [
    "story = \"\"\"\n",
    "最近、政府が行ったアンケートでは \n",
    "公務員を対象に、勤務する部署に対する満足度を調査しました。\n",
    "その結果、NASAが95％の満足度を得て、最も人気のある部署であることが判明しました。\n",
    "\n",
    "NASAの職員の一人、ジョン・スミスは、この調査結果について次のようにコメントしています。\n",
    "「NASAがトップになったことは驚きではありません。\n",
    "素晴らしい人々と素晴らしい機会に恵まれた、素晴らしい職場だからです。\n",
    "このような革新的な組織の一員であることを誇りに思います」と述べています。\n",
    "\n",
    "この結果は、NASAの経営陣も歓迎しています。 \n",
    "トム・ジョンソン所長は、「従業員がNASAでの仕事に満足していると聞いて感激している」と述べています。\n",
    "私たちには、目標達成のためにたゆまぬ努力を続ける、才能豊かで献身的なチームがいます。\n",
    "彼らの努力が報われたことを確認できて、とてもうれしいです。\n",
    "\n",
    "また、今回の調査では、以下のことが明らかになりました。\n",
    "社会保障庁は最も満足度が低く、仕事に満足していると回答した職員は45％にとどまりました。\n",
    "政府は、この調査で従業員から寄せられた懸念に対処し、すべての部署で仕事満足度の向上に取り組むことを約束しました。\n",
    "\"\"\""
   ]
  },
  {
   "cell_type": "code",
   "execution_count": 18,
   "id": "3faaf4eb-ef8b-42df-a8a1-115a31c8cca4",
   "metadata": {
    "tags": []
   },
   "outputs": [
    {
     "name": "stdout",
     "output_type": "stream",
     "text": [
      "1. 政府が公務員の部署満足度を調査した結果、NASAが最も人気のある部署であることが判明した。\n",
      "2. NASAの職員は、調査結果に満足し、素晴らしい職場であるとコメントした。\n",
      "3. NASAの経営陣も調査結果を歓迎し、従業員の努力が報われたことを確認した。\n",
      "4. 社会保障庁は最も満足度が低く、仕事に満足している職員は45％にとどまった。\n",
      "5. 政府は、調査結果に基づき、すべての部署で仕事満足度の向上に取り組むことを約束した。\n"
     ]
    }
   ],
   "source": [
    "prompt = f\"\"\"\n",
    "次のニュースの内容に記載されている5つの話題を答えなさい。\n",
    "各話題を1,2文程度にしなさい。\n",
    "回答は、カンマで区切られた項目のリストとしてフォーマットしてください。\n",
    "\n",
    "ニュース : '''{story}'''\n",
    "\"\"\"\n",
    "response = get_completion(prompt)\n",
    "print(response)"
   ]
  },
  {
   "cell_type": "markdown",
   "id": "d8ed6230-d64e-4ea6-bb79-c836065ead9f",
   "metadata": {},
   "source": [
    "たとえば、複数の話題が混在した文章の場合\n",
    "どれがNASAに関係する話題かを識別したい場合がある"
   ]
  },
  {
   "cell_type": "code",
   "execution_count": 22,
   "id": "fd5a41b9-0e1a-4c9a-8806-bd6749b710c3",
   "metadata": {
    "tags": []
   },
   "outputs": [
    {
     "name": "stdout",
     "output_type": "stream",
     "text": [
      "nasa: 1\n",
      "local government: 1\n",
      "engineering: 0\n",
      "employee satisfaction: 1\n",
      "federal government: 1\n"
     ]
    }
   ],
   "source": [
    "topic_list = [\n",
    "    \"nasa\", \"local government\", \"engineering\", \n",
    "    \"employee satisfaction\", \"federal government\"\n",
    "]\n",
    "\n",
    "prompt = f\"\"\"\n",
    "以下の話題のリストの各項目が、以下の本文の話題であるかどうかを判断しなさい。\n",
    "\n",
    "各話題について、0または1のリストで回答してください。\n",
    "話題の配列:  {\", \".join(topic_list)}\n",
    "\n",
    "ニュース : '''{story}'''\n",
    "\"\"\"\n",
    "response = get_completion(prompt)\n",
    "print(response)"
   ]
  },
  {
   "cell_type": "code",
   "execution_count": 23,
   "id": "7cf72a50-ea99-4faf-9332-4bd7029b7003",
   "metadata": {
    "tags": []
   },
   "outputs": [
    {
     "name": "stdout",
     "output_type": "stream",
     "text": [
      "ALERT: New NASA story!\n"
     ]
    }
   ],
   "source": [
    "topic_dict = {i.split(': ')[0]: int(i.split(': ')[1]) for i in response.split(sep='\\n')}\n",
    "if topic_dict['nasa'] == 1:\n",
    "    print(\"ALERT: New NASA story!\")"
   ]
  },
  {
   "cell_type": "code",
   "execution_count": null,
   "id": "4389dbd0-46a6-4241-9b9b-1c62eea0b526",
   "metadata": {},
   "outputs": [],
   "source": []
  }
 ],
 "metadata": {
  "kernelspec": {
   "display_name": "Python 3 (ipykernel)",
   "language": "python",
   "name": "python3"
  },
  "language_info": {
   "codemirror_mode": {
    "name": "ipython",
    "version": 3
   },
   "file_extension": ".py",
   "mimetype": "text/x-python",
   "name": "python",
   "nbconvert_exporter": "python",
   "pygments_lexer": "ipython3",
   "version": "3.8.16"
  }
 },
 "nbformat": 4,
 "nbformat_minor": 5
}
